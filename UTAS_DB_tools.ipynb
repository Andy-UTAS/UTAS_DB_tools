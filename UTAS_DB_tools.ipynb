{
 "cells": [
  {
   "cell_type": "code",
   "execution_count": null,
   "metadata": {},
   "outputs": [],
   "source": [
    "#!/usr/bin/env python\n",
    " \n",
    "'''\n",
    "UTAS_DB_tools.py\n",
    "A. J. McCulloch, February 2020\n",
    "'''\n",
    "\n",
    "####################################################################################################\n",
    "# Import modules\n",
    "####################################################################################################\n",
    "\n",
    "import pandas as pd # Required for dataframe manipulation\n",
    "import cx_Oracle # Required for connection to database\n",
    "import numpy as np # Required from numerical operations\n",
    "import matplotlib.pyplot as plt # Required for plotting\n",
    "import matplotlib.colors as colors # Required for setting custom colourmap\n",
    "\n",
    "from getpass import getpass # Required for password input\n",
    "\n",
    "####################################################################################################\n",
    "# Define classes\n",
    "####################################################################################################\n",
    "class DW_connect:\n",
    "    \n",
    "    connected = False # Initialise the connection attribute flag\n",
    "    \n",
    "    # Establish connection to the data warehouse\n",
    "    def __init__(self, username):\n",
    "        if self.connected == False: # Don't connect if already connected\n",
    "            self.username = username # Username to connect to data warehouse\n",
    "            self.password = getpass() # Get password associated with user above\n",
    "\n",
    "            \"\"\"\n",
    "            Make the required Data Source Name (DSN) Transparent Network Substrate (TNS)\n",
    "            Info comes from an email from Nathalie (FW: DB Client Installs for Data Warehouse Access)\n",
    "            Originating from Andrew with a document Oracle DB Drivers and Install\n",
    "            \"\"\"\n",
    "            self.dsn_tns = cx_Oracle.makedsn('exa1-scan.its.utas.edu.au', '1521', service_name=r'edwprod_maa')\n",
    "            # Connect to the database\n",
    "            self.conn = cx_Oracle.connect(user = self.username, password = self.password, dsn = self.dsn_tns)\n",
    "\n",
    "            # Verify connection has been made and update connection flag\n",
    "            try:\n",
    "                print(\"Connected to database, Oracle version {}\".format(self.conn.version))\n",
    "                self.connected = True\n",
    "            except NameError:\n",
    "                print(\"Could not connect to database\")\n",
    "        else:\n",
    "            print(\"Connection already established\")\n",
    "    \n",
    "    # Disconnect from the data warehouse\n",
    "    def disconnect(self):\n",
    "        self.conn.close()\n",
    "        print(\"Connection to database ended\")\n",
    "        self.connected = False\n",
    "\n",
    "# Class required to store data warehouse tables\n",
    "class tablist(object):\n",
    "    pass\n",
    "####################################################################################################\n",
    "# Define functions\n",
    "####################################################################################################\n",
    "# A function to run SQL query over a particular connection\n",
    "def runSQL(query, conn):\n",
    "    # Use pandas to execute SQL\n",
    "    return pd.read_sql_query(query, con = conn)\n",
    "     \n",
    "# Return currently accessible tables\n",
    "def get_tables(schema='owner'):\n",
    "    # SQL to retun all tables accessible under schema\n",
    "    q = \"\"\"\n",
    "        SELECT\n",
    "            table_name, {0}\n",
    "        FROM\n",
    "            all_tables\n",
    "        ORDER BY\n",
    "            {0}, table_name\n",
    "        \"\"\".format(schema)\n",
    "    # Run the SQL and return the result\n",
    "    return runSQL(q, EDW.conn)\n",
    "\n",
    "# Function to return all available tables\n",
    "def init_tables():\n",
    "    tbls = get_tables() # Get available tables\n",
    "    sch = tbls.OWNER.unique() # Get unique schema\n",
    "    # Store each schema as an attribute for table object with associated table\n",
    "    for s in sch:\n",
    "        setattr(tables, s, tbls[tbls['OWNER']==s].reset_index(drop=True)) # Indexdrop required!\n",
    "    print('Available schema are '+', '.join('{}'.format(s) for s in sch))\n",
    "\n",
    "# Function to return an entire table\n",
    "def get_all(table, row):\n",
    "    t_name = tables.STUDENTS.TABLE_NAME[row]\n",
    "    q = 'SELECT * FROM {}.{}'.format(tables.STUDENTS.OWNER[row], t_name)\n",
    "    print('Retrieving table {}'.format(t_name))\n",
    "    return runSQL(q, EDW.conn)"
   ]
  },
  {
   "cell_type": "markdown",
   "metadata": {},
   "source": [
    "# Connecting to the data warehouse\n",
    "## Example code\n",
    "### Initialise connection"
   ]
  },
  {
   "cell_type": "code",
   "execution_count": null,
   "metadata": {},
   "outputs": [],
   "source": [
    "####################################################################################################\n",
    "####################################################################################################\n",
    "# Code starts here\n",
    "####################################################################################################\n",
    "####################################################################################################\n",
    "\n",
    "# Connect to the data warehouse\n",
    "EDW = DW_connect('ajm32')"
   ]
  },
  {
   "cell_type": "markdown",
   "metadata": {},
   "source": [
    "### Find availables tables"
   ]
  },
  {
   "cell_type": "code",
   "execution_count": null,
   "metadata": {},
   "outputs": [],
   "source": [
    "tables = tablist() # Create tablist object\n",
    "init_tables()"
   ]
  },
  {
   "cell_type": "markdown",
   "metadata": {},
   "source": [
    "### Return a table"
   ]
  },
  {
   "cell_type": "code",
   "execution_count": null,
   "metadata": {},
   "outputs": [],
   "source": [
    "dfraw = get_all(tables.STUDENTS, 0)\n",
    "dfraw.head(5)"
   ]
  },
  {
   "cell_type": "markdown",
   "metadata": {},
   "source": [
    "### Disconnect from the database server"
   ]
  },
  {
   "cell_type": "code",
   "execution_count": null,
   "metadata": {},
   "outputs": [],
   "source": [
    "# Disconnect from the data warehouse\n",
    "EDW.disconnect()"
   ]
  },
  {
   "cell_type": "markdown",
   "metadata": {},
   "source": [
    "# Manipulating the data"
   ]
  },
  {
   "cell_type": "markdown",
   "metadata": {},
   "source": [
    "## Functions"
   ]
  },
  {
   "cell_type": "code",
   "execution_count": null,
   "metadata": {},
   "outputs": [],
   "source": [
    "def make_cmap(colors, position=None, bit=False, showcmap = False):\n",
    "    '''\n",
    "    make_cmap takes a list of tuples which contain RGB values. The RGB\n",
    "    values may either be in 8-bit [0 to 255] (in which bit must be set to\n",
    "    True when called) or arithmetic [0 to 1] (default). make_cmap returns\n",
    "    a cmap with equally spaced colors.\n",
    "    Arrange your tuples so that the first color is the lowest value for the\n",
    "    colorbar and the last is the highest.\n",
    "    position contains values from 0 to 1 to dictate the location of each color.\n",
    "    '''\n",
    "    import matplotlib as mpl\n",
    "    import numpy as np\n",
    "    bit_rgb = np.linspace(0,1,256)\n",
    "    if position == None:\n",
    "        position = np.linspace(0,1,len(colors))\n",
    "    else:\n",
    "        if len(position) != len(colors):\n",
    "            sys.exit(\"position length must be the same as colors\")\n",
    "        elif position[0] != 0 or position[-1] != 1:\n",
    "            sys.exit(\"position must start with 0 and end with 1\")\n",
    "    if bit:\n",
    "        for i in range(len(colors)):\n",
    "            colors[i] = (bit_rgb[colors[i][0]],\n",
    "                         bit_rgb[colors[i][1]],\n",
    "                         bit_rgb[colors[i][2]])\n",
    "    cdict = {'red':[], 'green':[], 'blue':[]}\n",
    "    for pos, color in zip(position, colors):\n",
    "        cdict['red'].append((pos, color[0], color[0]))\n",
    "        cdict['green'].append((pos, color[1], color[1]))\n",
    "        cdict['blue'].append((pos, color[2], color[2]))\n",
    "\n",
    "    cmap = mpl.colors.LinearSegmentedColormap('my_colormap',cdict,256)\n",
    "    \n",
    "    if showcmap == True:\n",
    "        gradient = np.linspace(0, 1, 256)\n",
    "        gradient = np.vstack((gradient, gradient))\n",
    "\n",
    "        f, ax = plt.subplots(figsize=(9,0.5))\n",
    "        f.subplots_adjust(top=0.95, bottom=0.01, left=0.2, right=0.99)\n",
    "        ax.imshow(gradient, aspect='auto', cmap=my_cmap)\n",
    "        ax.set_axis_off()\n",
    "    \n",
    "    return cmap\n",
    "\n",
    "# Function for true/false testing on columns\n",
    "def tf_test(frame, test_column, new_column, test, inverse = False, inverse_column = None):\n",
    "    frame[new_column] = frame[test_column].apply(lambda x: True if x in test else False)\n",
    "    if inverse == True:\n",
    "        frame[inverse_column] = frame[new_column].apply(lambda x: True if x == False else False)  \n",
    "\n",
    "# Function to make a column to flag domestic students\n",
    "def make_domestic(frame, make_international = False, test_column = 'State'):\n",
    "    # If original data is indexed at state level\n",
    "    if test_column == 'State':\n",
    "        domestic = ['ACT', 'NSW', 'NT', 'QLD', 'SA', 'TAS', 'VIC', 'WA']\n",
    "        frame['Domestic'] = frame[test_column].apply(lambda x: True if x in domestic else False)\n",
    "    # If original data is sorted at country level\n",
    "    elif test_colum == 'Country':\n",
    "        frame['Domestic'] = frame[test_column].apply(lambda x: True if x in 'Australia (includes External Territories)' else False)\n",
    "        \n",
    "    if make_international == True:\n",
    "        frame['International'] = frame['Domestic'].apply(lambda x: True if x == False else False)\n",
    "    \n",
    "def barplot(df, numeric = True, slc = 1):\n",
    "    \n",
    "    f, ax = plt.subplots(figsize=(15,7)) # Make a subplot to place the axis \n",
    "    \n",
    "    obj = df.index # Extract the objects\n",
    "    y_vals = df.iloc[:,0] # Make a list of y values\n",
    "    \n",
    "    # If the objects are not numeric, don't try to plot them\n",
    "    if numeric == False:\n",
    "        x_pos = np.arange(len(obj))\n",
    "        \n",
    "    else:\n",
    "        x_pos = obj\n",
    "        \n",
    "        if True:\n",
    "            year = 2020\n",
    "            cls = []\n",
    "            for y in df.index:\n",
    "                if y <= year:\n",
    "                    cls.append(utas_cmap(0))\n",
    "                elif y > year:\n",
    "                    cls.append(utas_cmap(.6))\n",
    "    \n",
    "    plt.bar(x_pos, y_vals, color = cls)\n",
    "    plt.xticks(x_pos[::slc], obj[::slc])\n",
    "    ax.tick_params(axis='both', which='major', labelsize=14)\n",
    "    plt.xlabel(obj.name, fontsize=20)\n",
    "    plt.ylabel(y_vals.name, fontsize=20)  "
   ]
  },
  {
   "cell_type": "code",
   "execution_count": null,
   "metadata": {},
   "outputs": [],
   "source": [
    "\"\"\"\n",
    "Create a custom colour map for the UTAS style\n",
    "Colours come from template documentation\n",
    "\"\"\"\n",
    "colours = [(226,0,1), (192,0,0), (96,96,96), (155,155,155), (202,202,202)] # Create a list of RGB tuples\n",
    "utas_cmap = make_cmap(colours, bit=True) # Call the function make_cmap which returns your colormap"
   ]
  },
  {
   "cell_type": "markdown",
   "metadata": {},
   "source": [
    "### Example usage"
   ]
  },
  {
   "cell_type": "code",
   "execution_count": null,
   "metadata": {},
   "outputs": [],
   "source": [
    "course_codes = ['73M', '73N', '73U', 'K3T', 'P3K', 'S4A', 'S4X', 'S9A', 'Z1C', 'Z1J', 'Z2A', 'Z2J'] # Courses supplied for analysis\n",
    "df = dfraw[dfraw['COURSE_CODE'].isin(course_codes)] # Select only the relevant courses\n",
    "\n",
    "df = df[['ENROL_YEAR', 'STUDENT_ID', 'ORIG_COUNTRY_STATE_DESC']] # Select only the relevant columns\n",
    "df.columns = ['Year', 'ID', 'State'] # Rename the columns\n",
    "df = df.sort_values(by=['Year', 'State']) # Sort the data by year then state\n",
    "\n",
    "make_domestic(df, True) # Add a dometic flag\n",
    "df['Tasmanian'] = df['State'].apply(lambda x: True if x == 'TAS' else False) # Add a Tasmanian flag\n",
    "df.loc[(df['Domestic'] == True) & (df['Tasmanian'] == False), 'Mainland'] = True # Add a mainland flag\n",
    "df['Mainland'] = df['Mainland'].fillna(False) # Replace NaN with False"
   ]
  },
  {
   "cell_type": "code",
   "execution_count": null,
   "metadata": {},
   "outputs": [],
   "source": [
    "toplot = df.groupby('Year')[['Tasmanian', 'Mainland']].sum()\n",
    "toplot.plot.bar(rot=0, colormap = utas_cmap, stacked = True)"
   ]
  },
  {
   "cell_type": "code",
   "execution_count": null,
   "metadata": {},
   "outputs": [],
   "source": [
    "df_country = dfraw[dfraw['COURSE_CODE'].isin(course_codes)]\n",
    "df_country = df_country[['COURSE_LEVEL_BROAD_DESC', 'COUNTRY_OF_CITIZENSHIP_DESC']]\n",
    "df2 = df.merge(df_country, left_index=True, right_index=True)\n",
    "df2 = df2.rename(columns={'COURSE_LEVEL_BROAD_DESC':'Course level', 'COUNTRY_OF_CITIZENSHIP_DESC':'Country'})\n",
    "df2['International'] = df2['International'].apply(lambda x: 'International' if x else 'Domestic')\n",
    "#df2 = df2.set_index('International')"
   ]
  },
  {
   "cell_type": "code",
   "execution_count": null,
   "metadata": {},
   "outputs": [],
   "source": [
    "df2.pivot(columns='Course level', values = 'Year')"
   ]
  },
  {
   "cell_type": "code",
   "execution_count": null,
   "metadata": {},
   "outputs": [],
   "source": [
    "df_dom = df[df['Domestic']]\n",
    "df_int = df[~df['Domestic']]"
   ]
  }
 ],
 "metadata": {
  "kernelspec": {
   "display_name": "Python 3",
   "language": "python",
   "name": "python3"
  },
  "language_info": {
   "codemirror_mode": {
    "name": "ipython",
    "version": 3
   },
   "file_extension": ".py",
   "mimetype": "text/x-python",
   "name": "python",
   "nbconvert_exporter": "python",
   "pygments_lexer": "ipython3",
   "version": "3.7.6"
  }
 },
 "nbformat": 4,
 "nbformat_minor": 4
}
