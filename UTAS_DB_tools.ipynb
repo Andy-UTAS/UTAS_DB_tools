{
 "cells": [
  {
   "cell_type": "code",
   "execution_count": null,
   "metadata": {},
   "outputs": [],
   "source": [
    "#!/usr/bin/env python\n",
    " \n",
    "'''\n",
    "UTAS_DB_tools.py\n",
    "A. J. McCulloch, February 2020\n",
    "'''\n",
    "\n",
    "####################################################################################################\n",
    "# Import modules\n",
    "####################################################################################################\n",
    "\n",
    "import pandas as pd # Required for dataframe manipulation\n",
    "import cx_Oracle # Required for connection to database\n",
    "from getpass import getpass # Required for password input\n",
    "\n",
    "####################################################################################################\n",
    "# Define classes\n",
    "####################################################################################################\n",
    "class DW_connect:\n",
    "    \n",
    "    connected = False # Initialise the connection attribute flag\n",
    "    \n",
    "    # Establish connection to the data warehouse\n",
    "    def __init__(self, username):\n",
    "        if self.connected == False: # Don't connect if already connected\n",
    "            self.username = username # Username to connect to data warehouse\n",
    "            self.password = getpass() # Get password associated with user above\n",
    "\n",
    "            \"\"\"\n",
    "            Make the required Data Source Name (DSN) Transparent Network Substrate (TNS)\n",
    "            Info comes from an email from Nathalie (FW: DB Client Installs for Data Warehouse Access)\n",
    "            Originating from Andrew with a document Oracle DB Drivers and Install\n",
    "            \"\"\"\n",
    "            self.dsn_tns = cx_Oracle.makedsn('exa1-scan.its.utas.edu.au', '1521', service_name=r'edwprod_maa')\n",
    "            # Connect to the database\n",
    "            self.conn = cx_Oracle.connect(user = self.username, password = self.password, dsn = self.dsn_tns)\n",
    "\n",
    "            # Verify connection has been made and update connection flag\n",
    "            try:\n",
    "                print(\"Connected to database, Oracle version {}\".format(self.conn.version))\n",
    "                self.connected = True\n",
    "            except NameError:\n",
    "                print(\"Could not connect to database\")\n",
    "        else:\n",
    "            print(\"Connection already established\")\n",
    "    \n",
    "    # Disconnect from the data warehouse\n",
    "    def disconnect(self):\n",
    "        self.conn.close()\n",
    "        print(\"Connection to database ended\")\n",
    "        self.connected = False\n",
    "\n",
    "# Class required to store data warehouse tables\n",
    "class tablist(object):\n",
    "    pass\n",
    "####################################################################################################\n",
    "# Define functions\n",
    "####################################################################################################\n",
    "# A function to run SQL query over a particular connection\n",
    "def runSQL(query, conn = EDW.conn):\n",
    "    # Use pandas to execute SQL\n",
    "    return pd.read_sql_query(query, con = conn)\n",
    "     \n",
    "# Return currently accessible tables\n",
    "def get_tables(schema='owner'):\n",
    "    # SQL to retun all tables accessible under schema\n",
    "    q = \"\"\"\n",
    "        SELECT\n",
    "            table_name, {0}\n",
    "        FROM\n",
    "            all_tables\n",
    "        ORDER BY\n",
    "            {0}, table_name\n",
    "        \"\"\".format(schema)\n",
    "    # Run the SQL and return the result\n",
    "    return runSQL(q)\n",
    "\n",
    "# Function to return all available tables\n",
    "def init_tables():\n",
    "    tbls = get_tables() # Get available tables\n",
    "    sch = tbls.OWNER.unique() # Get unique schema\n",
    "    # Store each schema as an attribute for table object with associated table\n",
    "    for s in sch:\n",
    "        setattr(tables, s, tbls[tbls['OWNER']==s].reset_index(drop=True)) # Indexdrop required!\n",
    "    print('Available schema are '+', '.join('{}'.format(s) for s in sch))\n",
    "\n",
    "# Function to return an entire table\n",
    "def get_all(table, row):\n",
    "    q = 'SELECT * FROM {}.{}'.format(tables.STUDENTS.OWNER[row], tables.STUDENTS.TABLE_NAME[row])\n",
    "    return runSQL(q)"
   ]
  },
  {
   "cell_type": "markdown",
   "metadata": {},
   "source": [
    "# Connecting to the data warehouse\n",
    "## Example code\n",
    "### Initialise connection"
   ]
  },
  {
   "cell_type": "code",
   "execution_count": null,
   "metadata": {},
   "outputs": [],
   "source": [
    "####################################################################################################\n",
    "####################################################################################################\n",
    "# Code starts here\n",
    "####################################################################################################\n",
    "####################################################################################################\n",
    "\n",
    "# Connect to the data warehouse\n",
    "EDW = DW_connect('ajm32')"
   ]
  },
  {
   "cell_type": "markdown",
   "metadata": {},
   "source": [
    "### Find availables tables"
   ]
  },
  {
   "cell_type": "code",
   "execution_count": null,
   "metadata": {},
   "outputs": [],
   "source": [
    "tables = tablist() # Create tablist object\n",
    "init_tables()"
   ]
  },
  {
   "cell_type": "markdown",
   "metadata": {},
   "source": [
    "### Return a table"
   ]
  },
  {
   "cell_type": "code",
   "execution_count": null,
   "metadata": {},
   "outputs": [],
   "source": [
    "df = get_all(tables.STUDENTS, 0)\n",
    "df.head(5)"
   ]
  },
  {
   "cell_type": "markdown",
   "metadata": {},
   "source": [
    "### Disconnect from the database server"
   ]
  },
  {
   "cell_type": "code",
   "execution_count": null,
   "metadata": {},
   "outputs": [],
   "source": [
    "# Disconnect from the data warehouse\n",
    "EDW.disconnect()"
   ]
  },
  {
   "cell_type": "markdown",
   "metadata": {},
   "source": [
    "# Manipulating the data"
   ]
  },
  {
   "cell_type": "code",
   "execution_count": null,
   "metadata": {},
   "outputs": [],
   "source": []
  }
 ],
 "metadata": {
  "kernelspec": {
   "display_name": "Python 3",
   "language": "python",
   "name": "python3"
  },
  "language_info": {
   "codemirror_mode": {
    "name": "ipython",
    "version": 3
   },
   "file_extension": ".py",
   "mimetype": "text/x-python",
   "name": "python",
   "nbconvert_exporter": "python",
   "pygments_lexer": "ipython3",
   "version": "3.7.6"
  }
 },
 "nbformat": 4,
 "nbformat_minor": 4
}
